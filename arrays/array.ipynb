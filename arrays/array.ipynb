{
 "cells": [
  {
   "cell_type": "markdown",
   "metadata": {},
   "source": [
    "## Class "
   ]
  },
  {
   "cell_type": "code",
   "execution_count": 1,
   "metadata": {},
   "outputs": [],
   "source": [
    "class CustomArray{\n",
    "    constructor(){\n",
    "        this.arr = [];\n",
    "    }\n",
    "\n",
    "    read(index){\n",
    "        if(index < 0 || index >= this.arr.length){\n",
    "            throw new Error('Index out of bounds');\n",
    "        }  else if(typeof this.arr[index] === 'undefined'){\n",
    "            throw new Error('Element not found');\n",
    "        }  else{\n",
    "        return this.arr[index];\n",
    "    }\n",
    "}\n",
    "\n",
    "insertAtEnd(element) {\n",
    "\n",
    "    this.arr[this.arr.length] = element;\n",
    "}\n",
    "\n",
    "insertAtBeginning(element) {\n",
    "  \n",
    "    for (let i = this.arr.length; i > 0; i--) {\n",
    "        this.arr[i] = this.arr[i - 1];\n",
    "    }\n",
    "    this.arr[0] = element;\n",
    "}\n",
    "\n",
    "\n",
    "insertAtIndex(index, element){\n",
    "    if(index === 0){\n",
    "        this.insertAtBeginning(element);\n",
    "        return;\n",
    "    }\n",
    "if(index === this.arr.length){\n",
    "    this.insertAtEnd(element);\n",
    "    return;\n",
    "}\n",
    "\n",
    "for(let i = this.arr.length; i > index; i--){\n",
    "    this.arr[i] = this.arr[i - 1];\n",
    "}\n",
    "\n",
    "this.arr[index ] = element;\n",
    "}\n",
    "\n",
    "search(element){\n",
    "    for (let index = 0; index < this.arr.length; index++) {\n",
    "      if(this.arr[index] === element) return index\n",
    "    }\n",
    "    throw(\"item not found\")\n",
    "}\n",
    "\n",
    "deleteAtBeginning(){\n",
    "    if(this.arr.length < 1){\n",
    "        throw(\"array is empty\")\n",
    "    }\n",
    "    for (let i = 0; i < this.arr.length; i++) {\n",
    "        this.arr[i] = this.arr[i + 1];\n",
    "    }\n",
    "    this.arr.length = this.arr.length -1 \n",
    "    \n",
    "}\n",
    "deleteAtEnd(){\n",
    "    if(this.arr.length < 1){\n",
    "        throw(\"array is empty\")\n",
    "    }\n",
    "    this.arr.length = this.arr.length -1 \n",
    "    \n",
    "}\n",
    "\n",
    "deleteAtIndex(index){\n",
    "    if(index < 0 || index >= this.arr.length){\n",
    "        throw new Error('Index out of bounds');\n",
    "    }  else {\n",
    "      for (let i = index; i < this.arr.length; i++){\n",
    "       this.arr[i] = this.arr[i + 1]\n",
    "       \n",
    "      }\n",
    "      this.arr.length = this.arr.length -1 \n",
    "    }}\n",
    "\n",
    "print() {\n",
    "    console.log(this.arr);\n",
    "}\n",
    "\n",
    "}\n"
   ]
  },
  {
   "cell_type": "markdown",
   "metadata": {},
   "source": [
    "## Instantiate"
   ]
  },
  {
   "cell_type": "code",
   "execution_count": 2,
   "metadata": {},
   "outputs": [],
   "source": [
    "const arrays = new CustomArray()\n"
   ]
  },
  {
   "cell_type": "markdown",
   "metadata": {},
   "source": [
    "## Insertion"
   ]
  },
  {
   "cell_type": "code",
   "execution_count": 3,
   "metadata": {},
   "outputs": [
    {
     "name": "stdout",
     "output_type": "stream",
     "text": [
      "[\n",
      "  1, 13, 0, 1,\n",
      "  2,  3, 4, 5\n",
      "]\n"
     ]
    }
   ],
   "source": [
    "arrays.insertAtEnd(1)\n",
    "arrays.insertAtEnd(2)\n",
    "arrays.insertAtEnd(3)\n",
    "arrays.insertAtEnd(4)\n",
    "arrays.insertAtEnd(5)\n",
    "arrays.insertAtBeginning(0)\n",
    "arrays.insertAtBeginning(1)\n",
    "arrays.insertAtIndex(1,13)\n",
    "arrays.print()"
   ]
  },
  {
   "cell_type": "code",
   "execution_count": 4,
   "metadata": {},
   "outputs": [
    {
     "name": "stdout",
     "output_type": "stream",
     "text": [
      "[\n",
      "  1, 13, 0, 1, 13,\n",
      "  2,  3, 4, 5\n",
      "]\n"
     ]
    }
   ],
   "source": [
    "arrays.insertAtIndex(4,13)\n",
    "arrays.print()"
   ]
  },
  {
   "cell_type": "markdown",
   "metadata": {},
   "source": [
    "## Searching"
   ]
  },
  {
   "cell_type": "code",
   "execution_count": 5,
   "metadata": {},
   "outputs": [
    {
     "ename": "string",
     "evalue": "'item not found'",
     "output_type": "error",
     "traceback": []
    }
   ],
   "source": [
    "console.log(arrays.search(9))"
   ]
  },
  {
   "cell_type": "markdown",
   "metadata": {},
   "source": [
    "## Deletion"
   ]
  },
  {
   "cell_type": "code",
   "execution_count": 6,
   "metadata": {},
   "outputs": [
    {
     "name": "stdout",
     "output_type": "stream",
     "text": [
      "[\n",
      "  13, 0, 1, 13,\n",
      "   2, 3, 4,  5\n",
      "]\n"
     ]
    }
   ],
   "source": [
    "arrays.deleteAtBeginning()\n",
    "arrays.print()"
   ]
  },
  {
   "cell_type": "code",
   "execution_count": 7,
   "metadata": {},
   "outputs": [
    {
     "name": "stdout",
     "output_type": "stream",
     "text": [
      "[\n",
      "  13, 0, 1, 13,\n",
      "   2, 3, 4\n",
      "]\n"
     ]
    }
   ],
   "source": [
    "arrays.deleteAtEnd()\n",
    "arrays.print()"
   ]
  },
  {
   "cell_type": "code",
   "execution_count": 15,
   "metadata": {},
   "outputs": [
    {
     "ename": "Error",
     "evalue": "Index out of bounds",
     "output_type": "error",
     "traceback": [
      "evalmachine.<anonymous>:74",
      "        throw new Error('Index out of bounds');",
      "        ^",
      "",
      "Error: Index out of bounds",
      "    at CustomArray.deleteAtIndex (evalmachine.<anonymous>:74:15)",
      "    at evalmachine.<anonymous>:1:8",
      "    at Script.runInThisContext (node:vm:136:12)",
      "    at Object.runInThisContext (node:vm:316:38)",
      "    at run ([eval]:1020:15)",
      "    at onRunRequest ([eval]:864:18)",
      "    at onMessage ([eval]:828:13)",
      "    at process.emit (node:events:519:28)",
      "    at emit (node:internal/child_process:951:14)",
      "    at process.processTicksAndRejections (node:internal/process/task_queues:83:21)"
     ]
    }
   ],
   "source": [
    "arrays.deleteAtIndex(0)\n",
    "arrays.print()"
   ]
  }
 ],
 "metadata": {
  "kernelspec": {
   "display_name": "JavaScript (Node.js)",
   "language": "javascript",
   "name": "javascript"
  },
  "language_info": {
   "file_extension": ".js",
   "mimetype": "application/javascript",
   "name": "javascript",
   "version": "20.15.0"
  }
 },
 "nbformat": 4,
 "nbformat_minor": 2
}
